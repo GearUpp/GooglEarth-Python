{
 "cells": [
  {
   "cell_type": "code",
   "execution_count": null,
   "id": "fea510f8-977e-4e36-a092-8603710dfe31",
   "metadata": {},
   "outputs": [
    {
     "data": {
      "text/html": [
       "\n",
       "            <style>\n",
       "                .geemap-dark {\n",
       "                    --jp-widgets-color: white;\n",
       "                    --jp-widgets-label-color: white;\n",
       "                    --jp-ui-font-color1: white;\n",
       "                    --jp-layout-color2: #454545;\n",
       "                    background-color: #383838;\n",
       "                }\n",
       "\n",
       "                .geemap-dark .jupyter-button {\n",
       "                    --jp-layout-color3: #383838;\n",
       "                }\n",
       "\n",
       "                .geemap-colab {\n",
       "                    background-color: var(--colab-primary-surface-color, white);\n",
       "                }\n",
       "\n",
       "                .geemap-colab .jupyter-button {\n",
       "                    --jp-layout-color3: var(--colab-primary-surface-color, white);\n",
       "                }\n",
       "            </style>\n",
       "            "
      ],
      "text/plain": [
       "<IPython.core.display.HTML object>"
      ]
     },
     "metadata": {},
     "output_type": "display_data"
    },
    {
     "name": "stdout",
     "output_type": "stream",
     "text": [
      "ee, imported, auth complete\n",
      "py_date: 2025-07-03\n",
      "ee_date: 1751500800000\n"
     ]
    },
    {
     "data": {
      "application/vnd.jupyter.widget-view+json": {
       "model_id": "ab425dbdfb80404b830b02f82a8baaae",
       "version_major": 2,
       "version_minor": 0
      },
      "text/plain": [
       "Map(center=[40, -100], controls=(WidgetControl(options=['position', 'transparent_bg'], widget=SearchDataGUI(ch…"
      ]
     },
     "metadata": {},
     "output_type": "display_data"
    }
   ],
   "source": [
    "import ee\n",
    "import geemap\n",
    "import datetime\n",
    "import time\n",
    "import os\n",
    "#import ollama\n",
    "import notebook\n",
    "from IPython.core.display_functions import display\n",
    "import ipywidgets \n",
    "\n",
    "# run       python3 -m notebook      in shell to start Jupyter server\n",
    "ee.Authenticate(auth_mode=locals,quiet=True)\n",
    "ee.Initialize(project=\"learning-project-436517\")\n",
    "print(ee.String(\"ee, imported, auth complete\").getInfo())\n",
    "\n",
    "#========================================================================================= Polygon Start ======================================================================================================================================\n",
    "Ukraine = {\n",
    "    \"geodesic\": False,\n",
    "    \"type\": \"Polygon\",\n",
    "    \"coordinates\": [[[\n",
    "        23.32989305133208, 46.18192421358463],\n",
    "        [38.66680711383208, 46.18192421358463],\n",
    "        [38.66680711383208, 52.081364449517274],\n",
    "        [23.32989305133208, 52.081364449517274],\n",
    "        [23.32989305133208, 46.18192421358463]]]}\n",
    "Mariupol = {\n",
    "    \"geodesic\": False,\n",
    "    \"type\": \"Polygon\",\n",
    "    \"coordinates\": [[\n",
    "        [37.57443050213773, 47.08504167310611],\n",
    "        [37.66575435467679, 47.07709281123811],\n",
    "        [37.70557979412992, 47.128505634229306],\n",
    "        [37.65751460858304, 47.152792595141435],\n",
    "        [37.490659750184605, 47.12943995326131],\n",
    "        [37.47555354901273, 47.02750256697862],\n",
    "        [37.57443050213773, 47.08504167310611]]]}\n",
    "Odesa = {\n",
    "    \"geodesic\": False,\n",
    "    \"type\": \"Polygon\",\n",
    "    \"coordinates\": [\n",
    "        [\n",
    "            [30.598608101814754, 46.34232305677091],\n",
    "            [30.801855172127254, 46.34232305677091],\n",
    "            [30.801855172127254, 46.55049603225274],\n",
    "            [30.598608101814754, 46.55049603225274],\n",
    "            [30.598608101814754, 46.34232305677091]\n",
    "        ]\n",
    "    ]\n",
    "}\n",
    "Gaza = {\n",
    "    \"geodesic\": False,\n",
    "    \"type\": \"coordinates\",\n",
    "    \"coordinates\": [\n",
    "        [\n",
    "            [34.281418764703915, 31.161562347574517],\n",
    "            [34.58766266118829, 31.541541281809828],\n",
    "            [34.49153229009454, 31.608230377233596],\n",
    "            [34.20863434087579, 31.327112208340928],\n",
    "            [34.281418764703915, 31.161562347574517]\n",
    "        ]\n",
    "    ]\n",
    "}\n",
    "Location = Odesa # redefine location for testing\n",
    "#========================================================================================= Polygon End ======================================================================================================================================\n",
    "\n",
    "#========================================================================================= Dates Start ======================================================================================================================================\n",
    "\n",
    "py_date = datetime.date.today().isoformat()\n",
    "ee_date = ee.Date(py_date.format())  # epoch format\n",
    "\n",
    "\n",
    "print(f\"py_date: {py_date}\")\n",
    "print(f\"ee_date: {ee_date.getInfo()['value']}\")\n",
    "\n",
    "Today = ee_date                     #   }-Short 14 day period for \"current\"  Data\n",
    "Past = ee_date.advance(-14, 'day')  #   }\n",
    "\n",
    "Past1 = ee_date.advance(-30, 'day') #   }-Short 30 day period to gather \"past\" Data\n",
    "Past2 = ee_date.advance(-60, 'day') #   }\n",
    "\n",
    "#========================================================================================= Dates End ======================================================================================================================================\n",
    "\n",
    "#========================================================================================= Map Start ======================================================================================================================================\n",
    "\n",
    "Map = geemap.Map(center=(40, -100), zoom=4)\n",
    "Map.add_basemap(\"OpenTopoMap\")\n",
    "display(Map)\n",
    "\n",
    "#========================================================================================= Map End ======================================================================================================================================\n"
   ]
  },
  {
   "cell_type": "code",
   "execution_count": null,
   "id": "52754c4c-6785-42d1-8008-719df8045232",
   "metadata": {},
   "outputs": [],
   "source": []
  }
 ],
 "metadata": {
  "kernelspec": {
   "display_name": "Python 3 (ipykernel)",
   "language": "python",
   "name": "python3"
  }
 },
 "nbformat": 4,
 "nbformat_minor": 5
}
